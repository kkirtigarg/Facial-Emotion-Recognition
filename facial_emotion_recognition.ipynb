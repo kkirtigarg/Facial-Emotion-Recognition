{
 "cells": [
  {
   "cell_type": "code",
   "execution_count": null,
   "metadata": {
    "colab": {
     "base_uri": "https://localhost:8080/",
     "height": 119
    },
    "colab_type": "code",
    "id": "FYfZhVK0fZ2V",
    "outputId": "fdd91dff-7571-4fce-cba6-62307f97cfe2"
   },
   "outputs": [],
   "source": [
    "!git clone https://github.com/muxspace/facial_expressions.git"
   ]
  },
  {
   "cell_type": "code",
   "execution_count": null,
   "metadata": {
    "colab": {},
    "colab_type": "code",
    "id": "s9g3ri-UfmET"
   },
   "outputs": [],
   "source": [
    "import csv\n",
    "data = {}\n",
    "with open('/content/facial_expressions/data/legend.csv') as f:\n",
    "  reader = csv.reader(f)\n",
    "  next(reader)\n",
    "  for row in reader:\n",
    "    key = row[2].lower()\n",
    "    if key in data:\n",
    "      data[key].append(row[1])\n",
    "    else:\n",
    "      data[key] = [row[1]]"
   ]
  },
  {
   "cell_type": "code",
   "execution_count": null,
   "metadata": {
    "colab": {
     "base_uri": "https://localhost:8080/",
     "height": 153
    },
    "colab_type": "code",
    "id": "VVzU_a67jrGX",
    "outputId": "69fc44c6-923f-4047-d9a7-4b600cee799d"
   },
   "outputs": [],
   "source": [
    "emotion_list = list(data.keys())\n",
    "emotion_list"
   ]
  },
  {
   "cell_type": "code",
   "execution_count": null,
   "metadata": {
    "colab": {},
    "colab_type": "code",
    "id": "vHbst716k2KO"
   },
   "outputs": [],
   "source": [
    "import os\n",
    "\n",
    "os.mkdir('master_data')\n",
    "os.mkdir('master_data/training')\n",
    "os.mkdir('master_data/testing')"
   ]
  },
  {
   "cell_type": "code",
   "execution_count": null,
   "metadata": {
    "colab": {},
    "colab_type": "code",
    "id": "yVQ7jkssk9cd"
   },
   "outputs": [],
   "source": [
    "for emotion in emotion_list:\n",
    "  os.mkdir(os.path.join('master_data/training/', emotion))\n",
    "  os.mkdir(os.path.join('master_data/testing/', emotion))"
   ]
  },
  {
   "cell_type": "code",
   "execution_count": null,
   "metadata": {
    "colab": {},
    "colab_type": "code",
    "id": "5NAIPMkLlIj1"
   },
   "outputs": [],
   "source": [
    "from shutil import copyfile\n",
    "split_size = 0.8\n",
    "\n",
    "for emotion, images in data.items():\n",
    "  train_size = int(split_size*len(images))\n",
    "  train_images = images[:train_size]\n",
    "  test_images = images[train_size:]\n",
    "  for image in train_images:\n",
    "    source = os.path.join('/content/facial_expressions/images', image)\n",
    "    dest = os.path.join('/content/master_data/training', emotion, image)\n",
    "    copyfile(source, dest)\n",
    "  for image in test_images:\n",
    "    source = os.path.join('/content/facial_expressions/images', image)\n",
    "    dest = os.path.join('/content/master_data/testing', emotion, image)\n",
    "    copyfile(source, dest)"
   ]
  },
  {
   "cell_type": "code",
   "execution_count": null,
   "metadata": {
    "colab": {
     "base_uri": "https://localhost:8080/",
     "height": 63
    },
    "colab_type": "code",
    "id": "9nUCakLgmSNp",
    "outputId": "820c231a-6bca-4e81-ff8b-36640c77fc9e"
   },
   "outputs": [],
   "source": [
    "import tensorflow as tf\n",
    "from tensorflow.keras.preprocessing.image import ImageDataGenerator\n",
    "from tensorflow.keras.optimizers import Adam\n",
    "from tensorflow.keras.callbacks import EarlyStopping\n",
    "from tensorflow.keras.layers import Conv2D, MaxPooling2D, Dense, Flatten"
   ]
  },
  {
   "cell_type": "code",
   "execution_count": null,
   "metadata": {
    "colab": {
     "base_uri": "https://localhost:8080/",
     "height": 459
    },
    "colab_type": "code",
    "id": "dSYxzkfjnduI",
    "outputId": "820ad9b8-eb62-4db5-ba8b-035a9fd1004d"
   },
   "outputs": [],
   "source": [
    "model = tf.keras.models.Sequential([\n",
    "      Conv2D(16, (3,3), activation='relu', input_shape = (100, 100, 3)),\n",
    "      MaxPooling2D(2, 2),\n",
    "      Conv2D(32, (3,3), activation='relu'),\n",
    "      MaxPooling2D(2, 2),\n",
    "      Conv2D(64, (3,3), activation='relu'),\n",
    "      MaxPooling2D(2, 2),\n",
    "      Flatten(),\n",
    "      Dense(1024, activation='relu'),\n",
    "      Dense(8, activation='softmax')\n",
    "])\n",
    "model.compile(optimizer = Adam(lr = 0.01), loss = 'categorical_crossentropy', metrics = ['acc'])\n",
    "model.summary()"
   ]
  },
  {
   "cell_type": "code",
   "execution_count": null,
   "metadata": {
    "colab": {
     "base_uri": "https://localhost:8080/",
     "height": 51
    },
    "colab_type": "code",
    "id": "xo-O0elhqXWg",
    "outputId": "bd3187bb-47b4-4cc5-b04d-b02090cf4ec4"
   },
   "outputs": [],
   "source": [
    "train_dir = '/content/master_data/training'\n",
    "test_dir = '/content/master_data/testing'\n",
    "\n",
    "train_datagen = ImageDataGenerator(rescale = 1.0/255)\n",
    "train_generator = train_datagen.flow_from_directory(\n",
    "                                                    train_dir,\n",
    "                                                    target_size = (100, 100),\n",
    "                                                    class_mode = 'categorical',\n",
    "                                                    batch_size = 128\n",
    "                                                  )\n",
    "\n",
    "test_datagen = ImageDataGenerator(rescale = 1.0/255)\n",
    "test_generator = test_datagen.flow_from_directory(\n",
    "                                                    test_dir,\n",
    "                                                    target_size = (100, 100),\n",
    "                                                    class_mode = 'categorical',\n",
    "                                                    batch_size = 128\n",
    "                                                  )"
   ]
  },
  {
   "cell_type": "code",
   "execution_count": null,
   "metadata": {
    "colab": {},
    "colab_type": "code",
    "id": "YCI0xQtlsbYc"
   },
   "outputs": [],
   "source": [
    "es = EarlyStopping(monitor='val_acc', patience = 2, min_delta=0.01)"
   ]
  },
  {
   "cell_type": "code",
   "execution_count": null,
   "metadata": {
    "colab": {
     "base_uri": "https://localhost:8080/",
     "height": 340
    },
    "colab_type": "code",
    "id": "jMBsgMIqs_GP",
    "outputId": "5c744868-1940-4ab8-eb34-caaf316f3ad7"
   },
   "outputs": [],
   "source": [
    "model.fit_generator(train_generator,\n",
    "                    epochs = 10,\n",
    "                    verbose = 1,\n",
    "                    validation_data = test_generator,\n",
    "                    callbacks = [es])"
   ]
  }
 ],
 "metadata": {
  "accelerator": "GPU",
  "colab": {
   "collapsed_sections": [],
   "name": "facial_expression_recognition.ipynb",
   "provenance": []
  },
  "kernelspec": {
   "display_name": "Python 3",
   "language": "python",
   "name": "python3"
  },
  "language_info": {
   "codemirror_mode": {
    "name": "ipython",
    "version": 3
   },
   "file_extension": ".py",
   "mimetype": "text/x-python",
   "name": "python",
   "nbconvert_exporter": "python",
   "pygments_lexer": "ipython3",
   "version": "3.8.3"
  }
 },
 "nbformat": 4,
 "nbformat_minor": 1
}
